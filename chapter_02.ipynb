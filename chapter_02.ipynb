{
 "cells": [
  {
   "cell_type": "code",
   "execution_count": 2,
   "metadata": {
    "scrolled": true
   },
   "outputs": [
    {
     "data": {
      "text/plain": [
       "{0: -0.9128505133917671,\n",
       " 1: -0.13027491962026316,\n",
       " 2: 0.035216080395493406,\n",
       " 3: -0.2542669378709375,\n",
       " 4: 1.4619797085911177,\n",
       " 5: -0.5297590779517853,\n",
       " 6: -1.148659467833087}"
      ]
     },
     "execution_count": 2,
     "metadata": {},
     "output_type": "execute_result"
    }
   ],
   "source": [
    "# 2.2.1\n",
    "import numpy as np\n",
    "data = {i: np.random.randn() for i in range(7)}\n",
    "\n",
    "data"
   ]
  },
  {
   "cell_type": "code",
   "execution_count": 7,
   "metadata": {
    "collapsed": true
   },
   "outputs": [],
   "source": [
    "# 2.2.4\n",
    "data?\n",
    "\n",
    "# 変数の後に?を付けると、その変数の一般情報が表示される。この場合は以下の通り。\n",
    "\n",
    "# Type:        dict\n",
    "# String form: {0: 1.7807279687699775, 1: 0.4958055262319699, 2: 0.590964974456022, 3: -0.25296624816065993, 4: -0.43190553446736146, 5: 1.350717802719327, 6: 1.2429134906459562}\n",
    "# Length:      7\n",
    "# Docstring:  \n",
    "# dict() -> new empty dictionary\n",
    "# dict(mapping) -> new dictionary initialized from a mapping object's\n",
    "#     (key, value) pairs\n",
    "# dict(iterable) -> new dictionary initialized as if via:\n",
    "#     d = {}\n",
    "#     for k, v in iterable:\n",
    "#         d[k] = v\n",
    "# dict(**kwargs) -> new dictionary initialized with the name=value pairs\n",
    "#     in the keyword argument list.  For example:  dict(one=1, two=2)"
   ]
  },
  {
   "cell_type": "code",
   "execution_count": 1,
   "metadata": {},
   "outputs": [
    {
     "data": {
      "text/plain": [
       "'C:\\\\Users\\\\Kon\\\\Desktop\\\\konDev\\\\pydate_analysis'"
      ]
     },
     "execution_count": 1,
     "metadata": {},
     "output_type": "execute_result"
    }
   ],
   "source": [
    "%pwd"
   ]
  },
  {
   "cell_type": "code",
   "execution_count": 10,
   "metadata": {
    "collapsed": true
   },
   "outputs": [],
   "source": [
    "def add_nums(a, b):\n",
    "    return a+b\n",
    "\n",
    "add_nums?\n",
    "\n",
    "# Signature: add_nums(a, b)\n",
    "# Docstring: <no docstring>\n",
    "# File:      c:\\users\\kon\\desktop\\[ファイルのフルパス]\n",
    "# Type:      function\n",
    "\n",
    "add_nums??\n",
    "\n",
    "# ??を付けると、その関数の中身も見えるようになる\n",
    "\n",
    "# Signature: add_nums(a, b)\n",
    "# Source:   \n",
    "# def add_nums(a, b):\n",
    "#     return a+b\n",
    "# File:      c:\\users\\kon\\desktop\\[ファイルのフルパス]\n",
    "# Type:      function"
   ]
  },
  {
   "cell_type": "code",
   "execution_count": 5,
   "metadata": {},
   "outputs": [
    {
     "data": {
      "text/plain": [
       "array([[ 2.28960481,  1.3378051 , -0.50762594,  0.35980165, -0.84448608],\n",
       "       [ 0.0280788 ,  0.81937644, -0.46007279,  0.05740411, -0.46464308],\n",
       "       [ 0.27222128, -0.27775717,  1.72267472, -0.60790295, -0.93722998],\n",
       "       [ 0.4483931 , -1.05630899, -0.82929398,  0.42936831,  1.28495396],\n",
       "       [-0.76207354, -0.88081941, -1.42243128,  0.45702313, -1.04217384]])"
      ]
     },
     "execution_count": 5,
     "metadata": {},
     "output_type": "execute_result"
    }
   ],
   "source": [
    "a = np.random.randn(5,5)\n",
    "a\n",
    "\n",
    "# array([[ 2.28960481,  1.3378051 , -0.50762594,  0.35980165, -0.84448608],\n",
    "#        [ 0.0280788 ,  0.81937644, -0.46007279,  0.05740411, -0.46464308],\n",
    "#        [ 0.27222128, -0.27775717,  1.72267472, -0.60790295, -0.93722998],\n",
    "#        [ 0.4483931 , -1.05630899, -0.82929398,  0.42936831,  1.28495396],\n",
    "#        [-0.76207354, -0.88081941, -1.42243128,  0.45702313, -1.04217384]])"
   ]
  },
  {
   "cell_type": "code",
   "execution_count": 3,
   "metadata": {
    "scrolled": true
   },
   "outputs": [
    {
     "name": "stdout",
     "output_type": "stream",
     "text": [
      "The slowest run took 775.11 times longer than the fastest. This could mean that an intermediate result is being cached.\n",
      "10000 loops, best of 3: 43.8 µs per loop\n"
     ]
    }
   ],
   "source": [
    "# 2.2.8\n",
    "rand100 = np.random.randn(100, 100)\n",
    "%timeit np.dot(rand100, rand100)\n",
    "\n",
    "# The slowest run took 775.11 times longer than the fastest. This could mean that an intermediate result is being cached.\n",
    "# 10000 loops, best of 3: 43.8 µs per loop"
   ]
  },
  {
   "cell_type": "code",
   "execution_count": null,
   "metadata": {
    "collapsed": true
   },
   "outputs": [],
   "source": []
  }
 ],
 "metadata": {
  "kernelspec": {
   "display_name": "Python 3",
   "language": "python",
   "name": "python3"
  },
  "language_info": {
   "codemirror_mode": {
    "name": "ipython",
    "version": 3
   },
   "file_extension": ".py",
   "mimetype": "text/x-python",
   "name": "python",
   "nbconvert_exporter": "python",
   "pygments_lexer": "ipython3",
   "version": "3.6.1"
  }
 },
 "nbformat": 4,
 "nbformat_minor": 2
}
