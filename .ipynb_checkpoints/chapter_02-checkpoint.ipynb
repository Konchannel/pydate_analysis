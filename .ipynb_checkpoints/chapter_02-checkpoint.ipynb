{
 "cells": [
  {
   "cell_type": "code",
   "execution_count": 4,
   "metadata": {
    "scrolled": true
   },
   "outputs": [
    {
     "data": {
      "text/plain": [
       "{0: 1.7807279687699775,\n",
       " 1: 0.4958055262319699,\n",
       " 2: 0.590964974456022,\n",
       " 3: -0.25296624816065993,\n",
       " 4: -0.43190553446736146,\n",
       " 5: 1.350717802719327,\n",
       " 6: 1.2429134906459562}"
      ]
     },
     "execution_count": 4,
     "metadata": {},
     "output_type": "execute_result"
    }
   ],
   "source": [
    "# 2.2.1\n",
    "import numpy as np\n",
    "data = {i: np.random.randn() for i in range(7)}\n",
    "\n",
    "data"
   ]
  },
  {
   "cell_type": "code",
   "execution_count": 8,
   "metadata": {},
   "outputs": [
    {
     "data": {
      "text/plain": [
       "\"\\n変数の後に?を付けると、その変数の一般情報が表示される。この場合は以下の通り。\\n\\nType:        dict\\nString form: {0: 1.7807279687699775, 1: 0.4958055262319699, 2: 0.590964974456022, 3: -0.25296624816065993, 4: -0.43190553446736146, 5: 1.350717802719327, 6: 1.2429134906459562}\\nLength:      7\\nDocstring:  \\ndict() -> new empty dictionary\\ndict(mapping) -> new dictionary initialized from a mapping object's\\n    (key, value) pairs\\ndict(iterable) -> new dictionary initialized as if via:\\n    d = {}\\n    for k, v in iterable:\\n        d[k] = v\\ndict(**kwargs) -> new dictionary initialized with the name=value pairs\\n    in the keyword argument list.  For example:  dict(one=1, two=2)\\n\""
      ]
     },
     "execution_count": 8,
     "metadata": {},
     "output_type": "execute_result"
    }
   ],
   "source": [
    "# 2.2.4\n",
    "data?\n",
    "\n",
    "'''\n",
    "変数の後に?を付けると、その変数の一般情報が表示される。この場合は以下の通り。\n",
    "\n",
    "Type:        dict\n",
    "String form: {0: 1.7807279687699775, 1: 0.4958055262319699, 2: 0.590964974456022, 3: -0.25296624816065993, 4: -0.43190553446736146, 5: 1.350717802719327, 6: 1.2429134906459562}\n",
    "Length:      7\n",
    "Docstring:  \n",
    "dict() -> new empty dictionary\n",
    "dict(mapping) -> new dictionary initialized from a mapping object's\n",
    "    (key, value) pairs\n",
    "dict(iterable) -> new dictionary initialized as if via:\n",
    "    d = {}\n",
    "    for k, v in iterable:\n",
    "        d[k] = v\n",
    "dict(**kwargs) -> new dictionary initialized with the name=value pairs\n",
    "    in the keyword argument list.  For example:  dict(one=1, two=2)\n",
    "'''"
   ]
  },
  {
   "cell_type": "code",
   "execution_count": null,
   "metadata": {
    "collapsed": true
   },
   "outputs": [],
   "source": []
  }
 ],
 "metadata": {
  "kernelspec": {
   "display_name": "Python 3",
   "language": "python",
   "name": "python3"
  },
  "language_info": {
   "codemirror_mode": {
    "name": "ipython",
    "version": 3
   },
   "file_extension": ".py",
   "mimetype": "text/x-python",
   "name": "python",
   "nbconvert_exporter": "python",
   "pygments_lexer": "ipython3",
   "version": "3.6.1"
  }
 },
 "nbformat": 4,
 "nbformat_minor": 2
}
